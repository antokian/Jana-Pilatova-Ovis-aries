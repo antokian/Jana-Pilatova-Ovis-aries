{
 "cells": [
  {
   "cell_type": "markdown",
   "metadata": {
    "collapsed": true
   },
   "source": [
    "# Ovce domácí (*Ovis aries*) "
   ]
  },
  {
   "cell_type": "markdown",
   "metadata": {},
   "source": [
    "## Uvod"
   ]
  },
  {
   "cell_type": "markdown",
   "metadata": {
    "collapsed": true
   },
   "source": [
    ">Ovce domácí (*Ovis aries*) je prastarým průvodcem člověka, \n",
    ">tento domestikovaný přežvýkavec vystupuje v mytologických bájích, \n",
    ">je významným biblickým symbolem, dodnes se vyskytuje v různých \n",
    ">rčeních a příslovích. Zřejmě znáte beránka božího, před spaním počítáte ovečky, \n",
    ">možná jste černou ovcí své rodiny, nebo jste se narodili v tomto znamení čínského \n",
    ">horoskopu, po večerech sledujete ovečku Shaun the Sheep či Černé ovce. \n",
    ">\n",
    ">Dále je také důležitým zdrojem vlny (včetně dnes moderního merina), masa a mléka. \n",
    ">Z ovčích rohů se vyrábějí střenky nožů, z ovčích střívek výplety do tenisových raket, \n",
    ">z ovčího loje se vyráběly svíčky a ovčí vosk lanolin se užívá v kosmetice či v krémech na boty. \n",
    ">Dnešní ovce domácí byla domestikována několikrát nezávisle na sobě a proto jsou si jednotlivá plemena nepříbuzná, \n",
    ">jejich předci byli muflon evropský (*Ovis orientalis musimon*), muflon asijský  (*Ovis orientalis orientalis*), \n",
    ">ovce kruhorohá (*Ovis orientalis arkal*), ovce stepní (*Ovis vignei*), ovce středoasijská (*Ovis ammon*). \n",
    ">\n",
    ">Pro biology se staly ovce modelovým organismem a jedním z prvních klonovaných zvířat. Ovce Dolly žila \n",
    ">mezi lety 1996  a 2003 na Roslin institutu v Edinburghu. Ovce se dožívají i 12 let, ale Dolly trpící po 5 \n",
    ">letech artritidou podlehla rakovině plic po 6,5 letech života, a to zřejmě také kvůli ustájení v budově, \n",
    ">na což ovce nejsou zvyklé. Do roku 2016 bylo naklonováno 13 ovcí ze stejné linie jako Dolly. Nejsou známé \n",
    ">žádné průkazné neduhy způsobené klonováním. \n",
    "\n",
    "> **GENOM**\n",
    "> 27 chromozomu\n",
    ">\n",
    "> 2615.52 Mb\n",
    ">\n",
    ">43046 proteinu\n",
    ">\n",
    ">42 % GC\n",
    ">\n",
    ">rok vydani: 2012"
   ]
  },
  {
   "cell_type": "markdown",
   "metadata": {
    "collapsed": true
   },
   "source": [
    "![](https://s-media-cache-ak0.pinimg.com/564x/24/df/28/24df2822145c1de8c5d6da7ecabeb08e.jpg)"
   ]
  },
  {
   "cell_type": "code",
   "execution_count": null,
   "metadata": {
    "collapsed": true
   },
   "outputs": [],
   "source": []
  },
  {
   "cell_type": "markdown",
   "metadata": {},
   "source": [
    "## Import dulezitych funkci a souboru a jejich modifikace"
   ]
  },
  {
   "cell_type": "code",
   "execution_count": 1,
   "metadata": {
    "collapsed": false
   },
   "outputs": [],
   "source": [
    "import pandas as pd\n",
    "import numpy as np\n",
    "import matplotlib as plt\n",
    "import pylab as pl"
   ]
  },
  {
   "cell_type": "code",
   "execution_count": null,
   "metadata": {
    "collapsed": false
   },
   "outputs": [],
   "source": [
    "!cat /home/ja/Data/ovis/Ovis_aries.Oar_v3.1.86.chr.gtf | grep -E \"\\s+gene\\s+\" > Ovis_gene.gtf\n",
    "!cat /home/ja/Data/ovis/Ovis_aries.Oar_v3.1.86.chr.gtf | grep -E \"\\s+transcript\\s+\" > Ovis_transcript.gtf"
   ]
  },
  {
   "cell_type": "code",
   "execution_count": 2,
   "metadata": {
    "collapsed": false
   },
   "outputs": [],
   "source": [
    "genes=pd.read_table('/home/ja/Data/ovis/Ovis_gene.gtf', header=None, dtype={0:np.object})   \n",
    "transcripts=pd.read_table('/home/ja/Data/ovis/Ovis_transcript.gtf', header=None, dtype={0:np.object})"
   ]
  },
  {
   "cell_type": "code",
   "execution_count": 3,
   "metadata": {
    "collapsed": false
   },
   "outputs": [],
   "source": [
    "genes.columns = [\"seqname\", \"source\", \"feature\", \"start\", \"end\", \"score\", \"strand\", \"frame\", \"attribute\"]\n",
    "transcripts.columns = [\"seqname\", \"source\", \"feature\", \"start\", \"end\", \"score\", \"strand\", \"frame\", \"attribute\"]"
   ]
  },
  {
   "cell_type": "code",
   "execution_count": 4,
   "metadata": {
    "collapsed": false,
    "scrolled": true
   },
   "outputs": [
    {
     "data": {
      "text/html": [
       "<div>\n",
       "<table border=\"1\" class=\"dataframe\">\n",
       "  <thead>\n",
       "    <tr style=\"text-align: right;\">\n",
       "      <th></th>\n",
       "      <th>seqname</th>\n",
       "      <th>source</th>\n",
       "      <th>feature</th>\n",
       "      <th>start</th>\n",
       "      <th>end</th>\n",
       "      <th>score</th>\n",
       "      <th>strand</th>\n",
       "      <th>frame</th>\n",
       "      <th>attribute</th>\n",
       "    </tr>\n",
       "  </thead>\n",
       "  <tbody>\n",
       "    <tr>\n",
       "      <th>0</th>\n",
       "      <td>1</td>\n",
       "      <td>ensembl</td>\n",
       "      <td>gene</td>\n",
       "      <td>23392</td>\n",
       "      <td>176938</td>\n",
       "      <td>.</td>\n",
       "      <td>-</td>\n",
       "      <td>.</td>\n",
       "      <td>gene_id \"ENSOARG00000017577\"; gene_version \"1\"...</td>\n",
       "    </tr>\n",
       "    <tr>\n",
       "      <th>1</th>\n",
       "      <td>1</td>\n",
       "      <td>ensembl</td>\n",
       "      <td>gene</td>\n",
       "      <td>49751</td>\n",
       "      <td>49903</td>\n",
       "      <td>.</td>\n",
       "      <td>+</td>\n",
       "      <td>.</td>\n",
       "      <td>gene_id \"ENSOARG00000020430\"; gene_version \"1\"...</td>\n",
       "    </tr>\n",
       "    <tr>\n",
       "      <th>2</th>\n",
       "      <td>1</td>\n",
       "      <td>ensembl</td>\n",
       "      <td>gene</td>\n",
       "      <td>79926</td>\n",
       "      <td>87689</td>\n",
       "      <td>.</td>\n",
       "      <td>+</td>\n",
       "      <td>.</td>\n",
       "      <td>gene_id \"ENSOARG00000017587\"; gene_version \"1\"...</td>\n",
       "    </tr>\n",
       "    <tr>\n",
       "      <th>3</th>\n",
       "      <td>1</td>\n",
       "      <td>ensembl</td>\n",
       "      <td>gene</td>\n",
       "      <td>91112</td>\n",
       "      <td>96882</td>\n",
       "      <td>.</td>\n",
       "      <td>+</td>\n",
       "      <td>.</td>\n",
       "      <td>gene_id \"ENSOARG00000025485\"; gene_version \"1\"...</td>\n",
       "    </tr>\n",
       "    <tr>\n",
       "      <th>4</th>\n",
       "      <td>1</td>\n",
       "      <td>ensembl</td>\n",
       "      <td>gene</td>\n",
       "      <td>105668</td>\n",
       "      <td>108573</td>\n",
       "      <td>.</td>\n",
       "      <td>-</td>\n",
       "      <td>.</td>\n",
       "      <td>gene_id \"ENSOARG00000017595\"; gene_version \"1\"...</td>\n",
       "    </tr>\n",
       "  </tbody>\n",
       "</table>\n",
       "</div>"
      ],
      "text/plain": [
       "  seqname   source feature   start     end score strand frame  \\\n",
       "0       1  ensembl    gene   23392  176938     .      -     .   \n",
       "1       1  ensembl    gene   49751   49903     .      +     .   \n",
       "2       1  ensembl    gene   79926   87689     .      +     .   \n",
       "3       1  ensembl    gene   91112   96882     .      +     .   \n",
       "4       1  ensembl    gene  105668  108573     .      -     .   \n",
       "\n",
       "                                           attribute  \n",
       "0  gene_id \"ENSOARG00000017577\"; gene_version \"1\"...  \n",
       "1  gene_id \"ENSOARG00000020430\"; gene_version \"1\"...  \n",
       "2  gene_id \"ENSOARG00000017587\"; gene_version \"1\"...  \n",
       "3  gene_id \"ENSOARG00000025485\"; gene_version \"1\"...  \n",
       "4  gene_id \"ENSOARG00000017595\"; gene_version \"1\"...  "
      ]
     },
     "execution_count": 4,
     "metadata": {},
     "output_type": "execute_result"
    }
   ],
   "source": [
    "genes.head()"
   ]
  },
  {
   "cell_type": "code",
   "execution_count": 5,
   "metadata": {
    "collapsed": true
   },
   "outputs": [],
   "source": [
    "def parse_attributes(attributes_str):\n",
    "    \n",
    "    ONLY_ATTRIBUTES = set([\"gene_id\", \n",
    "                          \"transcript_id\",\n",
    "                          \"gene_name\",\n",
    "                          \"gene_biotype\",\n",
    "                          \"transcript_name\",\n",
    "                          \"transcript_biotype\"])\n",
    "    \n",
    "    out = {}\n",
    "    \n",
    "    for pair in attributes_str.split(\";\"):\n",
    "        if pair.strip() == \"\":\n",
    "            continue\n",
    "        import re\n",
    "        m = re.match(r\"^\\s*(.+) \\\"(.+)\\\"$\", pair)\n",
    "        \n",
    "        if m.group(1) in ONLY_ATTRIBUTES:\n",
    "            out[m.group(1)] = m.group(2)\n",
    "\n",
    "    return out"
   ]
  },
  {
   "cell_type": "code",
   "execution_count": 6,
   "metadata": {
    "collapsed": false
   },
   "outputs": [],
   "source": [
    "def split_attribute_column(df):\n",
    "   \n",
    "    attributes_columns = df.attribute.apply(parse_attributes).apply(pd.Series)\n",
    "    return pd.concat([df.drop([\"attribute\"], axis=1),\n",
    "                      attributes_columns],\n",
    "                     axis=1)\n",
    "\n",
    "genes = split_attribute_column(genes)\n",
    "transcripts = split_attribute_column(transcripts)\n",
    "#script nefungoval (re not defined), bylo treba dodat \"import re\" do scriptu"
   ]
  },
  {
   "cell_type": "markdown",
   "metadata": {},
   "source": [
    "## Deskriptivni analyza dat"
   ]
  },
  {
   "cell_type": "code",
   "execution_count": 7,
   "metadata": {
    "collapsed": false
   },
   "outputs": [
    {
     "data": {
      "text/html": [
       "<div>\n",
       "<table border=\"1\" class=\"dataframe\">\n",
       "  <thead>\n",
       "    <tr style=\"text-align: right;\">\n",
       "      <th></th>\n",
       "      <th>seqname</th>\n",
       "      <th>source</th>\n",
       "      <th>feature</th>\n",
       "      <th>start</th>\n",
       "      <th>end</th>\n",
       "      <th>score</th>\n",
       "      <th>strand</th>\n",
       "      <th>frame</th>\n",
       "      <th>gene_biotype</th>\n",
       "      <th>gene_id</th>\n",
       "      <th>gene_name</th>\n",
       "    </tr>\n",
       "  </thead>\n",
       "  <tbody>\n",
       "    <tr>\n",
       "      <th>0</th>\n",
       "      <td>1</td>\n",
       "      <td>ensembl</td>\n",
       "      <td>gene</td>\n",
       "      <td>23392</td>\n",
       "      <td>176938</td>\n",
       "      <td>.</td>\n",
       "      <td>-</td>\n",
       "      <td>.</td>\n",
       "      <td>protein_coding</td>\n",
       "      <td>ENSOARG00000017577</td>\n",
       "      <td>ING5</td>\n",
       "    </tr>\n",
       "    <tr>\n",
       "      <th>1</th>\n",
       "      <td>1</td>\n",
       "      <td>ensembl</td>\n",
       "      <td>gene</td>\n",
       "      <td>49751</td>\n",
       "      <td>49903</td>\n",
       "      <td>.</td>\n",
       "      <td>+</td>\n",
       "      <td>.</td>\n",
       "      <td>protein_coding</td>\n",
       "      <td>ENSOARG00000020430</td>\n",
       "      <td>NaN</td>\n",
       "    </tr>\n",
       "    <tr>\n",
       "      <th>2</th>\n",
       "      <td>1</td>\n",
       "      <td>ensembl</td>\n",
       "      <td>gene</td>\n",
       "      <td>79926</td>\n",
       "      <td>87689</td>\n",
       "      <td>.</td>\n",
       "      <td>+</td>\n",
       "      <td>.</td>\n",
       "      <td>protein_coding</td>\n",
       "      <td>ENSOARG00000017587</td>\n",
       "      <td>PDCD1</td>\n",
       "    </tr>\n",
       "    <tr>\n",
       "      <th>3</th>\n",
       "      <td>1</td>\n",
       "      <td>ensembl</td>\n",
       "      <td>gene</td>\n",
       "      <td>91112</td>\n",
       "      <td>96882</td>\n",
       "      <td>.</td>\n",
       "      <td>+</td>\n",
       "      <td>.</td>\n",
       "      <td>lincRNA</td>\n",
       "      <td>ENSOARG00000025485</td>\n",
       "      <td>NaN</td>\n",
       "    </tr>\n",
       "    <tr>\n",
       "      <th>4</th>\n",
       "      <td>1</td>\n",
       "      <td>ensembl</td>\n",
       "      <td>gene</td>\n",
       "      <td>105668</td>\n",
       "      <td>108573</td>\n",
       "      <td>.</td>\n",
       "      <td>-</td>\n",
       "      <td>.</td>\n",
       "      <td>protein_coding</td>\n",
       "      <td>ENSOARG00000017595</td>\n",
       "      <td>GAL3ST2</td>\n",
       "    </tr>\n",
       "  </tbody>\n",
       "</table>\n",
       "</div>"
      ],
      "text/plain": [
       "  seqname   source feature   start     end score strand frame    gene_biotype  \\\n",
       "0       1  ensembl    gene   23392  176938     .      -     .  protein_coding   \n",
       "1       1  ensembl    gene   49751   49903     .      +     .  protein_coding   \n",
       "2       1  ensembl    gene   79926   87689     .      +     .  protein_coding   \n",
       "3       1  ensembl    gene   91112   96882     .      +     .         lincRNA   \n",
       "4       1  ensembl    gene  105668  108573     .      -     .  protein_coding   \n",
       "\n",
       "              gene_id gene_name  \n",
       "0  ENSOARG00000017577      ING5  \n",
       "1  ENSOARG00000020430       NaN  \n",
       "2  ENSOARG00000017587     PDCD1  \n",
       "3  ENSOARG00000025485       NaN  \n",
       "4  ENSOARG00000017595   GAL3ST2  "
      ]
     },
     "execution_count": 7,
     "metadata": {},
     "output_type": "execute_result"
    }
   ],
   "source": [
    "genes.head()"
   ]
  },
  {
   "cell_type": "code",
   "execution_count": 8,
   "metadata": {
    "collapsed": false
   },
   "outputs": [
    {
     "data": {
      "text/html": [
       "<div>\n",
       "<table border=\"1\" class=\"dataframe\">\n",
       "  <thead>\n",
       "    <tr style=\"text-align: right;\">\n",
       "      <th></th>\n",
       "      <th>seqname</th>\n",
       "      <th>source</th>\n",
       "      <th>feature</th>\n",
       "      <th>start</th>\n",
       "      <th>end</th>\n",
       "      <th>score</th>\n",
       "      <th>strand</th>\n",
       "      <th>frame</th>\n",
       "      <th>gene_biotype</th>\n",
       "      <th>gene_id</th>\n",
       "      <th>gene_name</th>\n",
       "      <th>transcript_biotype</th>\n",
       "      <th>transcript_id</th>\n",
       "      <th>transcript_name</th>\n",
       "    </tr>\n",
       "  </thead>\n",
       "  <tbody>\n",
       "    <tr>\n",
       "      <th>0</th>\n",
       "      <td>1</td>\n",
       "      <td>ensembl</td>\n",
       "      <td>transcript</td>\n",
       "      <td>23392</td>\n",
       "      <td>176938</td>\n",
       "      <td>.</td>\n",
       "      <td>-</td>\n",
       "      <td>.</td>\n",
       "      <td>protein_coding</td>\n",
       "      <td>ENSOARG00000017577</td>\n",
       "      <td>ING5</td>\n",
       "      <td>protein_coding</td>\n",
       "      <td>ENSOART00000019126</td>\n",
       "      <td>ING5-201</td>\n",
       "    </tr>\n",
       "    <tr>\n",
       "      <th>1</th>\n",
       "      <td>1</td>\n",
       "      <td>ensembl</td>\n",
       "      <td>transcript</td>\n",
       "      <td>49751</td>\n",
       "      <td>49903</td>\n",
       "      <td>.</td>\n",
       "      <td>+</td>\n",
       "      <td>.</td>\n",
       "      <td>protein_coding</td>\n",
       "      <td>ENSOARG00000020430</td>\n",
       "      <td>NaN</td>\n",
       "      <td>protein_coding</td>\n",
       "      <td>ENSOART00000022247</td>\n",
       "      <td>NaN</td>\n",
       "    </tr>\n",
       "    <tr>\n",
       "      <th>2</th>\n",
       "      <td>1</td>\n",
       "      <td>ensembl</td>\n",
       "      <td>transcript</td>\n",
       "      <td>79926</td>\n",
       "      <td>87689</td>\n",
       "      <td>.</td>\n",
       "      <td>+</td>\n",
       "      <td>.</td>\n",
       "      <td>protein_coding</td>\n",
       "      <td>ENSOARG00000017587</td>\n",
       "      <td>PDCD1</td>\n",
       "      <td>protein_coding</td>\n",
       "      <td>ENSOART00000019136</td>\n",
       "      <td>PDCD1-201</td>\n",
       "    </tr>\n",
       "    <tr>\n",
       "      <th>3</th>\n",
       "      <td>1</td>\n",
       "      <td>ensembl</td>\n",
       "      <td>transcript</td>\n",
       "      <td>91112</td>\n",
       "      <td>96882</td>\n",
       "      <td>.</td>\n",
       "      <td>+</td>\n",
       "      <td>.</td>\n",
       "      <td>lincRNA</td>\n",
       "      <td>ENSOARG00000025485</td>\n",
       "      <td>NaN</td>\n",
       "      <td>lincRNA</td>\n",
       "      <td>ENSOART00000027409</td>\n",
       "      <td>NaN</td>\n",
       "    </tr>\n",
       "    <tr>\n",
       "      <th>4</th>\n",
       "      <td>1</td>\n",
       "      <td>ensembl</td>\n",
       "      <td>transcript</td>\n",
       "      <td>105668</td>\n",
       "      <td>108573</td>\n",
       "      <td>.</td>\n",
       "      <td>-</td>\n",
       "      <td>.</td>\n",
       "      <td>protein_coding</td>\n",
       "      <td>ENSOARG00000017595</td>\n",
       "      <td>GAL3ST2</td>\n",
       "      <td>protein_coding</td>\n",
       "      <td>ENSOART00000019146</td>\n",
       "      <td>GAL3ST2-201</td>\n",
       "    </tr>\n",
       "  </tbody>\n",
       "</table>\n",
       "</div>"
      ],
      "text/plain": [
       "  seqname   source     feature   start     end score strand frame  \\\n",
       "0       1  ensembl  transcript   23392  176938     .      -     .   \n",
       "1       1  ensembl  transcript   49751   49903     .      +     .   \n",
       "2       1  ensembl  transcript   79926   87689     .      +     .   \n",
       "3       1  ensembl  transcript   91112   96882     .      +     .   \n",
       "4       1  ensembl  transcript  105668  108573     .      -     .   \n",
       "\n",
       "     gene_biotype             gene_id gene_name transcript_biotype  \\\n",
       "0  protein_coding  ENSOARG00000017577      ING5     protein_coding   \n",
       "1  protein_coding  ENSOARG00000020430       NaN     protein_coding   \n",
       "2  protein_coding  ENSOARG00000017587     PDCD1     protein_coding   \n",
       "3         lincRNA  ENSOARG00000025485       NaN            lincRNA   \n",
       "4  protein_coding  ENSOARG00000017595   GAL3ST2     protein_coding   \n",
       "\n",
       "        transcript_id transcript_name  \n",
       "0  ENSOART00000019126        ING5-201  \n",
       "1  ENSOART00000022247             NaN  \n",
       "2  ENSOART00000019136       PDCD1-201  \n",
       "3  ENSOART00000027409             NaN  \n",
       "4  ENSOART00000019146     GAL3ST2-201  "
      ]
     },
     "execution_count": 8,
     "metadata": {},
     "output_type": "execute_result"
    }
   ],
   "source": [
    "transcripts.head()"
   ]
  },
  {
   "cell_type": "markdown",
   "metadata": {},
   "source": [
    "###### Pocet a typ chromozomu ovce"
   ]
  },
  {
   "cell_type": "code",
   "execution_count": 9,
   "metadata": {
    "collapsed": false
   },
   "outputs": [
    {
     "data": {
      "text/plain": [
       "array(['1', '2', '3', 'X', '4', '6', '5', '7', '9', '8', '10', '13', '15',\n",
       "       '12', '17', '16', '18', '14', '23', '11', '19', '20', '22', '21',\n",
       "       '25', '26', '24', 'MT'], dtype=object)"
      ]
     },
     "execution_count": 9,
     "metadata": {},
     "output_type": "execute_result"
    }
   ],
   "source": [
    "genes[\"seqname\"].unique()"
   ]
  },
  {
   "cell_type": "markdown",
   "metadata": {
    "collapsed": true
   },
   "source": [
    "> Pracuji s genomickymi daty samice ovce. \n",
    "> Ma 26 paru autozomu jeden par X chromozomu. \n",
    "> Dataset obsahuje take sekvence mitchondrialni DNA."
   ]
  },
  {
   "cell_type": "code",
   "execution_count": 10,
   "metadata": {
    "collapsed": false
   },
   "outputs": [
    {
     "data": {
      "text/plain": [
       "1     2550\n",
       "3     2533\n",
       "2     1988\n",
       "5     1377\n",
       "11    1365\n",
       "14    1310\n",
       "X     1193\n",
       "7     1104\n",
       "15     985\n",
       "4      981\n",
       "13     938\n",
       "24     796\n",
       "6      791\n",
       "12     788\n",
       "20     784\n",
       "21     771\n",
       "18     768\n",
       "17     728\n",
       "19     656\n",
       "9      641\n",
       "8      595\n",
       "10     544\n",
       "22     489\n",
       "16     452\n",
       "23     409\n",
       "25     362\n",
       "26     312\n",
       "MT      37\n",
       "Name: seqname, dtype: int64"
      ]
     },
     "execution_count": 10,
     "metadata": {},
     "output_type": "execute_result"
    }
   ],
   "source": [
    "genes[\"seqname\"].value_counts()"
   ]
  },
  {
   "cell_type": "markdown",
   "metadata": {},
   "source": [
    "### Pocet genu a transkriptu"
   ]
  },
  {
   "cell_type": "markdown",
   "metadata": {},
   "source": [
    "##### Pocet genu"
   ]
  },
  {
   "cell_type": "code",
   "execution_count": 11,
   "metadata": {
    "collapsed": false
   },
   "outputs": [
    {
     "data": {
      "text/plain": [
       "26247"
      ]
     },
     "execution_count": 11,
     "metadata": {},
     "output_type": "execute_result"
    }
   ],
   "source": [
    "genes_count = len(genes[\"gene_id\"].unique())\n",
    "genes_count"
   ]
  },
  {
   "cell_type": "markdown",
   "metadata": {},
   "source": [
    "##### Pocet genu na vlakno"
   ]
  },
  {
   "cell_type": "code",
   "execution_count": 12,
   "metadata": {
    "collapsed": false
   },
   "outputs": [
    {
     "data": {
      "text/plain": [
       "+    13425\n",
       "-    12822\n",
       "Name: strand, dtype: int64"
      ]
     },
     "execution_count": 12,
     "metadata": {},
     "output_type": "execute_result"
    }
   ],
   "source": [
    "(genes[\"strand\"].value_counts())"
   ]
  },
  {
   "cell_type": "markdown",
   "metadata": {},
   "source": [
    "##### Prumernz pocet genu na vlakno"
   ]
  },
  {
   "cell_type": "code",
   "execution_count": 14,
   "metadata": {
    "collapsed": false
   },
   "outputs": [
    {
     "data": {
      "text/plain": [
       "strand\n",
       "+    33432.046108\n",
       "-    33596.795664\n",
       "dtype: float64"
      ]
     },
     "execution_count": 14,
     "metadata": {},
     "output_type": "execute_result"
    }
   ],
   "source": [
    "genes[\"gene_size\"] = genes[\"end\"] - genes[\"start\"]\n",
    "(genes.groupby([\"strand\"]).gene_size.sum())/(genes[\"strand\"].value_counts())"
   ]
  },
  {
   "cell_type": "markdown",
   "metadata": {},
   "source": [
    "##### Pocet genu dle funkce (biotypu)"
   ]
  },
  {
   "cell_type": "code",
   "execution_count": 15,
   "metadata": {
    "collapsed": false
   },
   "outputs": [
    {
     "data": {
      "text/plain": [
       "protein_coding          20150\n",
       "lincRNA                  1858\n",
       "miRNA                    1288\n",
       "snRNA                    1228\n",
       "snoRNA                    753\n",
       "misc_RNA                  357\n",
       "rRNA                      299\n",
       "pseudogene                247\n",
       "processed_pseudogene       43\n",
       "Mt_tRNA                    22\n",
       "Mt_rRNA                     2\n",
       "Name: gene_biotype, dtype: int64"
      ]
     },
     "execution_count": 15,
     "metadata": {},
     "output_type": "execute_result"
    }
   ],
   "source": [
    "genes[\"gene_biotype\"].value_counts()"
   ]
  },
  {
   "cell_type": "markdown",
   "metadata": {},
   "source": [
    "##### Pocet transkriptu dle funkce (biotypu)"
   ]
  },
  {
   "cell_type": "code",
   "execution_count": 16,
   "metadata": {
    "collapsed": false
   },
   "outputs": [
    {
     "data": {
      "text/plain": [
       "28294"
      ]
     },
     "execution_count": 16,
     "metadata": {},
     "output_type": "execute_result"
    }
   ],
   "source": [
    "transcripts_count = len(transcripts[\"transcript_id\"].unique())\n",
    "transcripts_count"
   ]
  },
  {
   "cell_type": "markdown",
   "metadata": {},
   "source": [
    "##### Pocet transkriptu "
   ]
  },
  {
   "cell_type": "code",
   "execution_count": 17,
   "metadata": {
    "collapsed": false
   },
   "outputs": [
    {
     "data": {
      "text/plain": [
       "protein_coding          22035\n",
       "lincRNA                  2020\n",
       "miRNA                    1288\n",
       "snRNA                    1228\n",
       "snoRNA                    753\n",
       "misc_RNA                  357\n",
       "rRNA                      299\n",
       "pseudogene                247\n",
       "processed_pseudogene       43\n",
       "Mt_tRNA                    22\n",
       "Mt_rRNA                     2\n",
       "Name: transcript_biotype, dtype: int64"
      ]
     },
     "execution_count": 17,
     "metadata": {},
     "output_type": "execute_result"
    }
   ],
   "source": [
    "transcripts[\"transcript_biotype\"].value_counts()"
   ]
  },
  {
   "cell_type": "markdown",
   "metadata": {},
   "source": [
    "##### Rozdil poctu transkriptu a poctu genu"
   ]
  },
  {
   "cell_type": "code",
   "execution_count": 18,
   "metadata": {
    "collapsed": false
   },
   "outputs": [
    {
     "data": {
      "text/plain": [
       "2047"
      ]
     },
     "execution_count": 18,
     "metadata": {},
     "output_type": "execute_result"
    }
   ],
   "source": [
    "transcripts_count-genes_count"
   ]
  },
  {
   "cell_type": "markdown",
   "metadata": {},
   "source": [
    "##### Rozdil poctu transkriptu a poctu genu dle funkce (biotypu)"
   ]
  },
  {
   "cell_type": "code",
   "execution_count": 19,
   "metadata": {
    "collapsed": false
   },
   "outputs": [
    {
     "data": {
      "text/plain": [
       "protein_coding          1885\n",
       "lincRNA                  162\n",
       "miRNA                      0\n",
       "snRNA                      0\n",
       "snoRNA                     0\n",
       "misc_RNA                   0\n",
       "rRNA                       0\n",
       "pseudogene                 0\n",
       "processed_pseudogene       0\n",
       "Mt_tRNA                    0\n",
       "Mt_rRNA                    0\n",
       "dtype: int64"
      ]
     },
     "execution_count": 19,
     "metadata": {},
     "output_type": "execute_result"
    }
   ],
   "source": [
    "transcripts[\"transcript_biotype\"].value_counts() - genes[\"gene_biotype\"].value_counts()"
   ]
  },
  {
   "cell_type": "markdown",
   "metadata": {},
   "source": [
    "##### Procentualni rozdil poctu transkriptu a genu"
   ]
  },
  {
   "cell_type": "code",
   "execution_count": 20,
   "metadata": {
    "collapsed": false
   },
   "outputs": [
    {
     "data": {
      "text/plain": [
       "protein_coding          0.093548\n",
       "lincRNA                 0.087191\n",
       "miRNA                   0.000000\n",
       "snRNA                   0.000000\n",
       "snoRNA                  0.000000\n",
       "misc_RNA                0.000000\n",
       "rRNA                    0.000000\n",
       "pseudogene              0.000000\n",
       "processed_pseudogene    0.000000\n",
       "Mt_tRNA                 0.000000\n",
       "Mt_rRNA                 0.000000\n",
       "dtype: float64"
      ]
     },
     "execution_count": 20,
     "metadata": {},
     "output_type": "execute_result"
    }
   ],
   "source": [
    "(transcripts[\"transcript_biotype\"].value_counts() - genes[\"gene_biotype\"].value_counts())/genes[\"gene_biotype\"].value_counts() "
   ]
  },
  {
   "cell_type": "markdown",
   "metadata": {},
   "source": [
    "#####  Velikost genu"
   ]
  },
  {
   "cell_type": "code",
   "execution_count": 21,
   "metadata": {
    "collapsed": false
   },
   "outputs": [
    {
     "data": {
      "text/plain": [
       "count      26247.000000\n",
       "mean       33512.528403\n",
       "std        72258.579940\n",
       "min           40.000000\n",
       "25%         1012.000000\n",
       "50%         8218.000000\n",
       "75%        31934.500000\n",
       "max      1398865.000000\n",
       "Name: gene_size, dtype: float64"
      ]
     },
     "execution_count": 21,
     "metadata": {},
     "output_type": "execute_result"
    }
   ],
   "source": [
    "genes[\"gene_size\"] = genes[\"end\"] - genes[\"start\"]\n",
    "genes[\"gene_size\"].describe()"
   ]
  },
  {
   "cell_type": "markdown",
   "metadata": {},
   "source": [
    "##### Velikost transkriptu"
   ]
  },
  {
   "cell_type": "code",
   "execution_count": 22,
   "metadata": {
    "collapsed": false
   },
   "outputs": [
    {
     "data": {
      "text/plain": [
       "count      28294.000000\n",
       "mean       34833.254117\n",
       "std        72247.004097\n",
       "min           40.000000\n",
       "25%         1210.000000\n",
       "50%         9158.500000\n",
       "75%        34676.500000\n",
       "max      1398865.000000\n",
       "Name: transcript_size, dtype: float64"
      ]
     },
     "execution_count": 22,
     "metadata": {},
     "output_type": "execute_result"
    }
   ],
   "source": [
    "transcripts[\"transcript_size\"] = transcripts[\"end\"] - transcripts[\"start\"]\n",
    "transcripts[\"transcript_size\"].describe()"
   ]
  },
  {
   "cell_type": "code",
   "execution_count": 23,
   "metadata": {
    "collapsed": true
   },
   "outputs": [],
   "source": [
    "%matplotlib inline"
   ]
  },
  {
   "cell_type": "markdown",
   "metadata": {},
   "source": [
    "##### Graficke srovnani velikosti genu a transkriptu"
   ]
  },
  {
   "cell_type": "code",
   "execution_count": 24,
   "metadata": {
    "collapsed": false
   },
   "outputs": [
    {
     "data": {
      "image/png": "[encoded data removed]",
      "text/plain": [
       "<matplotlib.figure.Figure at 0xaa4958cc>"
      ]
     },
     "metadata": {},
     "output_type": "display_data"
    }
   ],
   "source": [
    "import matplotlib.pyplot as plt\n",
    "plt.boxplot\n",
    "a = genes[\"gene_size\"]\n",
    "b = transcripts[\"transcript_size\"]\n",
    "c = [a, b]\n",
    "ax1 = plt.boxplot(c)\n",
    "plt.setp(ax1['medians'], linewidth=2) \n",
    "plt.xticks([1,2], [\"gene_size\", \"transcript_size\"])\n",
    "plt.show()"
   ]
  },
  {
   "cell_type": "markdown",
   "metadata": {},
   "source": [
    "#####  Graficke srovnani velikosti transkriptu dle funkce (biotypu)"
   ]
  },
  {
   "cell_type": "code",
   "execution_count": 25,
   "metadata": {
    "collapsed": false
   },
   "outputs": [
    {
     "data": {
      "text/plain": [
       "<matplotlib.text.Text at 0xaaf4a1ac>"
      ]
     },
     "execution_count": 25,
     "metadata": {},
     "output_type": "execute_result"
    },
    {
     "data": {
      "image/png": "[encoded data removed]",
      "text/plain": [
       "<matplotlib.figure.Figure at 0xaa4956ac>"
      ]
     },
     "metadata": {},
     "output_type": "display_data"
    }
   ],
   "source": [
    "transcripts.boxplot(column=\"transcript_size\", by=\"transcript_biotype\", vert=False)\n",
    "pl.suptitle(\"Distribution of trancript size according to their biotype\")\n"
   ]
  },
  {
   "cell_type": "markdown",
   "metadata": {},
   "source": [
    "##### Nejvetsi geny"
   ]
  },
  {
   "cell_type": "code",
   "execution_count": 26,
   "metadata": {
    "collapsed": false
   },
   "outputs": [
    {
     "data": {
      "text/html": [
       "<div>\n",
       "<table border=\"1\" class=\"dataframe\">\n",
       "  <thead>\n",
       "    <tr style=\"text-align: right;\">\n",
       "      <th></th>\n",
       "      <th>seqname</th>\n",
       "      <th>source</th>\n",
       "      <th>feature</th>\n",
       "      <th>start</th>\n",
       "      <th>end</th>\n",
       "      <th>score</th>\n",
       "      <th>strand</th>\n",
       "      <th>frame</th>\n",
       "      <th>gene_biotype</th>\n",
       "      <th>gene_id</th>\n",
       "      <th>gene_name</th>\n",
       "      <th>gene_size</th>\n",
       "    </tr>\n",
       "  </thead>\n",
       "  <tbody>\n",
       "    <tr>\n",
       "      <th>3774</th>\n",
       "      <td>2</td>\n",
       "      <td>ensembl</td>\n",
       "      <td>gene</td>\n",
       "      <td>167894700</td>\n",
       "      <td>168966473</td>\n",
       "      <td>.</td>\n",
       "      <td>+</td>\n",
       "      <td>.</td>\n",
       "      <td>protein_coding</td>\n",
       "      <td>ENSOARG00000010057</td>\n",
       "      <td>LRP1B</td>\n",
       "      <td>1071773</td>\n",
       "    </tr>\n",
       "    <tr>\n",
       "      <th>4584</th>\n",
       "      <td>3</td>\n",
       "      <td>ensembl</td>\n",
       "      <td>gene</td>\n",
       "      <td>1442982</td>\n",
       "      <td>2818577</td>\n",
       "      <td>.</td>\n",
       "      <td>-</td>\n",
       "      <td>.</td>\n",
       "      <td>protein_coding</td>\n",
       "      <td>ENSOARG00000002277</td>\n",
       "      <td>NaN</td>\n",
       "      <td>1375595</td>\n",
       "    </tr>\n",
       "    <tr>\n",
       "      <th>6316</th>\n",
       "      <td>3</td>\n",
       "      <td>ensembl</td>\n",
       "      <td>gene</td>\n",
       "      <td>168090905</td>\n",
       "      <td>169093427</td>\n",
       "      <td>.</td>\n",
       "      <td>-</td>\n",
       "      <td>.</td>\n",
       "      <td>protein_coding</td>\n",
       "      <td>ENSOARG00000013294</td>\n",
       "      <td>NaN</td>\n",
       "      <td>1002522</td>\n",
       "    </tr>\n",
       "    <tr>\n",
       "      <th>9946</th>\n",
       "      <td>6</td>\n",
       "      <td>ensembl</td>\n",
       "      <td>gene</td>\n",
       "      <td>113502984</td>\n",
       "      <td>114772068</td>\n",
       "      <td>.</td>\n",
       "      <td>-</td>\n",
       "      <td>.</td>\n",
       "      <td>protein_coding</td>\n",
       "      <td>ENSOARG00000011847</td>\n",
       "      <td>NaN</td>\n",
       "      <td>1269084</td>\n",
       "    </tr>\n",
       "    <tr>\n",
       "      <th>12976</th>\n",
       "      <td>9</td>\n",
       "      <td>ensembl</td>\n",
       "      <td>gene</td>\n",
       "      <td>63608850</td>\n",
       "      <td>65007715</td>\n",
       "      <td>.</td>\n",
       "      <td>+</td>\n",
       "      <td>.</td>\n",
       "      <td>protein_coding</td>\n",
       "      <td>ENSOARG00000011267</td>\n",
       "      <td>CSMD3</td>\n",
       "      <td>1398865</td>\n",
       "    </tr>\n",
       "  </tbody>\n",
       "</table>\n",
       "</div>"
      ],
      "text/plain": [
       "      seqname   source feature      start        end score strand frame  \\\n",
       "3774        2  ensembl    gene  167894700  168966473     .      +     .   \n",
       "4584        3  ensembl    gene    1442982    2818577     .      -     .   \n",
       "6316        3  ensembl    gene  168090905  169093427     .      -     .   \n",
       "9946        6  ensembl    gene  113502984  114772068     .      -     .   \n",
       "12976       9  ensembl    gene   63608850   65007715     .      +     .   \n",
       "\n",
       "         gene_biotype             gene_id gene_name  gene_size  \n",
       "3774   protein_coding  ENSOARG00000010057     LRP1B    1071773  \n",
       "4584   protein_coding  ENSOARG00000002277       NaN    1375595  \n",
       "6316   protein_coding  ENSOARG00000013294       NaN    1002522  \n",
       "9946   protein_coding  ENSOARG00000011847       NaN    1269084  \n",
       "12976  protein_coding  ENSOARG00000011267     CSMD3    1398865  "
      ]
     },
     "execution_count": 26,
     "metadata": {},
     "output_type": "execute_result"
    }
   ],
   "source": [
    "genes[genes['gene_size'] > 1000000]"
   ]
  },
  {
   "cell_type": "markdown",
   "metadata": {},
   "source": [
    "> nejdelsi geny pres 1 Mbp:\n",
    "> LRP1B = Low-Density Lipoprotein Receptor-Related Protein-Deleted In Tumor (na Chr 2)\n",
    "> CSMD3 = CUB And Sushi Multiple Domains 3\n",
    "    > CUB domena komplementu C1\n",
    "    > Sushi domena aka Complement control protein CCP"
   ]
  },
  {
   "cell_type": "markdown",
   "metadata": {},
   "source": [
    "##### Vicenasobne transkribovane geny"
   ]
  },
  {
   "cell_type": "code",
   "execution_count": 27,
   "metadata": {
    "collapsed": false
   },
   "outputs": [
    {
     "data": {
      "text/plain": [
       "ENSOARG00000006110    6\n",
       "ENSOARG00000005194    6\n",
       "ENSOARG00000011446    4\n",
       "ENSOARG00000019877    3\n",
       "ENSOARG00000026410    3\n",
       "ENSOARG00000009339    3\n",
       "ENSOARG00000014162    3\n",
       "ENSOARG00000007041    3\n",
       "ENSOARG00000026261    3\n",
       "ENSOARG00000004567    3\n",
       "ENSOARG00000011997    3\n",
       "ENSOARG00000009212    3\n",
       "ENSOARG00000026621    3\n",
       "ENSOARG00000025703    3\n",
       "ENSOARG00000018779    3\n",
       "ENSOARG00000018584    3\n",
       "ENSOARG00000017222    3\n",
       "ENSOARG00000020941    3\n",
       "ENSOARG00000007237    3\n",
       "ENSOARG00000002755    3\n",
       "ENSOARG00000026065    3\n",
       "ENSOARG00000008860    3\n",
       "ENSOARG00000010969    3\n",
       "ENSOARG00000009820    3\n",
       "ENSOARG00000025675    3\n",
       "ENSOARG00000001544    3\n",
       "ENSOARG00000010453    3\n",
       "ENSOARG00000001605    3\n",
       "ENSOARG00000008370    3\n",
       "ENSOARG00000002951    3\n",
       "                     ..\n",
       "ENSOARG00000024916    1\n",
       "ENSOARG00000014758    1\n",
       "ENSOARG00000004853    1\n",
       "ENSOARG00000004566    1\n",
       "ENSOARG00000021035    1\n",
       "ENSOARG00000000539    1\n",
       "ENSOARG00000008046    1\n",
       "ENSOARG00000008861    1\n",
       "ENSOARG00000022631    1\n",
       "ENSOARG00000024720    1\n",
       "ENSOARG00000019539    1\n",
       "ENSOARG00000021744    1\n",
       "ENSOARG00000017476    1\n",
       "ENSOARG00000015186    1\n",
       "ENSOARG00000018964    1\n",
       "ENSOARG00000006149    1\n",
       "ENSOARG00000014285    1\n",
       "ENSOARG00000003862    1\n",
       "ENSOARG00000000865    1\n",
       "ENSOARG00000012416    1\n",
       "ENSOARG00000010528    1\n",
       "ENSOARG00000018073    1\n",
       "ENSOARG00000017183    1\n",
       "ENSOARG00000008607    1\n",
       "ENSOARG00000024579    1\n",
       "ENSOARG00000007415    1\n",
       "ENSOARG00000022407    1\n",
       "ENSOARG00000025111    1\n",
       "ENSOARG00000017433    1\n",
       "ENSOARG00000017228    1\n",
       "Name: gene_id, dtype: int64"
      ]
     },
     "execution_count": 27,
     "metadata": {},
     "output_type": "execute_result"
    }
   ],
   "source": [
    "transcripts[\"gene_id\"].value_counts()"
   ]
  },
  {
   "cell_type": "markdown",
   "metadata": {},
   "source": [
    "##### Celkovy pocet vicenasobne transkribovanych genu"
   ]
  },
  {
   "cell_type": "code",
   "execution_count": 28,
   "metadata": {
    "collapsed": false
   },
   "outputs": [
    {
     "data": {
      "text/plain": [
       "1964"
      ]
     },
     "execution_count": 28,
     "metadata": {},
     "output_type": "execute_result"
    }
   ],
   "source": [
    "sum(transcripts[\"gene_id\"].value_counts() > 1)"
   ]
  },
  {
   "cell_type": "markdown",
   "metadata": {},
   "source": [
    "##### Z toho dvojnasobne transkribovane geny"
   ]
  },
  {
   "cell_type": "code",
   "execution_count": 29,
   "metadata": {
    "collapsed": false
   },
   "outputs": [
    {
     "data": {
      "text/plain": [
       "1888"
      ]
     },
     "execution_count": 29,
     "metadata": {},
     "output_type": "execute_result"
    }
   ],
   "source": [
    "sum(transcripts[\"gene_id\"].value_counts() == 2)"
   ]
  },
  {
   "cell_type": "markdown",
   "metadata": {},
   "source": [
    "##### Procentualni mnozstvi dvojnasobne transkribovanych genu"
   ]
  },
  {
   "cell_type": "code",
   "execution_count": 1,
   "metadata": {
    "collapsed": false
   },
   "outputs": [
    {
     "data": {
      "text/plain": [
       "0.9613034623217923"
      ]
     },
     "execution_count": 1,
     "metadata": {},
     "output_type": "execute_result"
    }
   ],
   "source": [
    "1888/1964"
   ]
  },
  {
   "cell_type": "markdown",
   "metadata": {},
   "source": [
    "##### A trojnasobne transkribovane geny"
   ]
  },
  {
   "cell_type": "code",
   "execution_count": 30,
   "metadata": {
    "collapsed": false
   },
   "outputs": [
    {
     "data": {
      "text/plain": [
       "73"
      ]
     },
     "execution_count": 30,
     "metadata": {},
     "output_type": "execute_result"
    }
   ],
   "source": [
    "sum(transcripts[\"gene_id\"].value_counts() == 3)"
   ]
  },
  {
   "cell_type": "markdown",
   "metadata": {},
   "source": [
    "##### Procentualni zastoupeni trojnasobne transkribovanych genu"
   ]
  },
  {
   "cell_type": "code",
   "execution_count": 31,
   "metadata": {
    "collapsed": false
   },
   "outputs": [
    {
     "data": {
      "text/plain": [
       "0.037169042769857434"
      ]
     },
     "execution_count": 31,
     "metadata": {},
     "output_type": "execute_result"
    }
   ],
   "source": [
    "73/1964"
   ]
  },
  {
   "cell_type": "markdown",
   "metadata": {},
   "source": [
    "##### Vice nez trojnasobne transkribovane geny"
   ]
  },
  {
   "cell_type": "code",
   "execution_count": 32,
   "metadata": {
    "collapsed": false
   },
   "outputs": [
    {
     "name": "stdout",
     "output_type": "stream",
     "text": [
      "      seqname   source feature     start       end score strand frame  \\\n",
      "24684      21  ensembl    gene  49121961  49187027     .      +     .   \n",
      "\n",
      "         gene_biotype             gene_id gene_name  gene_size  \n",
      "24684  protein_coding  ENSOARG00000005194       NaN      65066  \n"
     ]
    }
   ],
   "source": [
    "print(genes.loc[genes['gene_id'].isin([\"ENSOARG00000005194\"])])"
   ]
  },
  {
   "cell_type": "code",
   "execution_count": 33,
   "metadata": {
    "collapsed": false
   },
   "outputs": [
    {
     "name": "stdout",
     "output_type": "stream",
     "text": [
      "      seqname   source feature     start       end score strand frame  \\\n",
      "24308      21  ensembl    gene  37857129  38232441     .      -     .   \n",
      "\n",
      "         gene_biotype             gene_id gene_name  gene_size  \n",
      "24308  protein_coding  ENSOARG00000006110       NaN     375312  \n"
     ]
    }
   ],
   "source": [
    "print(genes.loc[genes['gene_id'].isin([\"ENSOARG00000006110\"])])"
   ]
  },
  {
   "cell_type": "code",
   "execution_count": 34,
   "metadata": {
    "collapsed": false
   },
   "outputs": [
    {
     "name": "stdout",
     "output_type": "stream",
     "text": [
      "      seqname   source feature     start       end score strand frame  \\\n",
      "16175      15  ensembl    gene  79226138  79261515     .      -     .   \n",
      "\n",
      "         gene_biotype             gene_id gene_name  gene_size  \n",
      "16175  protein_coding  ENSOARG00000011446       NaN      35377  \n"
     ]
    }
   ],
   "source": [
    "print(genes.loc[genes['gene_id'].isin([\"ENSOARG00000011446\"])])"
   ]
  },
  {
   "cell_type": "markdown",
   "metadata": {},
   "source": [
    "##### Histogram velikost genu v zavislosti na chromozomu"
   ]
  },
  {
   "cell_type": "code",
   "execution_count": 38,
   "metadata": {
    "collapsed": false
   },
   "outputs": [
    {
     "data": {
      "text/plain": [
       "<matplotlib.text.Text at 0xaac040ec>"
      ]
     },
     "execution_count": 38,
     "metadata": {},
     "output_type": "execute_result"
    },
    {
     "data": {
      "image/png": "[encoded data removed]",
      "text/plain": [
       "<matplotlib.figure.Figure at 0xaacc782c>"
      ]
     },
     "metadata": {},
     "output_type": "display_data"
    }
   ],
   "source": [
    "import matplotlib.pyplot as plt\n",
    "fig, ax = plt.subplots()\n",
    "genes[genes.seqname ==\"1\"].gene_size.hist(alpha=0.4, bins=15)\n",
    "genes[genes.seqname ==\"2\"].gene_size.hist(alpha=0.4, bins=12)\n",
    "genes[genes.seqname ==\"3\"].gene_size.hist(alpha=0.4, bins=12)\n",
    "genes[genes.seqname ==\"4\"].gene_size.hist(alpha=0.4, bins=12)\n",
    "genes[genes.seqname ==\"5\"].gene_size.hist(alpha=0.4, bins=12)\n",
    "genes[genes.seqname ==\"X\"].gene_size.hist(alpha=0.4, bins=12)\n",
    "genes[genes.seqname ==\"MT\"].gene_size.hist(alpha=0.4, bins=12)\n",
    "ax.legend(['1', '2', '3', '4', '5', 'X', 'MT'], title=\"Chromozom\")\n",
    "pl.suptitle(\"Pocet genu na chromozomech\")"
   ]
  },
  {
   "cell_type": "markdown",
   "metadata": {},
   "source": [
    "###### Vyneseni vsech chromozomu je neprehledne, ale mozne"
   ]
  },
  {
   "cell_type": "code",
   "execution_count": 39,
   "metadata": {
    "collapsed": false
   },
   "outputs": [
    {
     "data": {
      "text/plain": [
       "<matplotlib.text.Text at 0xab4ad9cc>"
      ]
     },
     "execution_count": 39,
     "metadata": {},
     "output_type": "execute_result"
    },
    {
     "data": {
      "image/png": "[encoded data removed]",
      "text/plain": [
       "<matplotlib.figure.Figure at 0xaa9ff28c>"
      ]
     },
     "metadata": {},
     "output_type": "display_data"
    }
   ],
   "source": [
    "fig, ax = plt.subplots()\n",
    "genes[genes.seqname ==\"1\"].gene_size.hist(alpha=0.4, bins=15)\n",
    "genes[genes.seqname ==\"2\"].gene_size.hist(alpha=0.4, bins=12)\n",
    "genes[genes.seqname ==\"3\"].gene_size.hist(alpha=0.4, bins=12)\n",
    "genes[genes.seqname ==\"4\"].gene_size.hist(alpha=0.4, bins=12)\n",
    "genes[genes.seqname ==\"5\"].gene_size.hist(alpha=0.4, bins=12)\n",
    "genes[genes.seqname ==\"6\"].gene_size.hist(alpha=0.4, bins=12)\n",
    "genes[genes.seqname ==\"7\"].gene_size.hist(alpha=0.4, bins=12)\n",
    "genes[genes.seqname ==\"8\"].gene_size.hist(alpha=0.4, bins=12)\n",
    "genes[genes.seqname ==\"9\"].gene_size.hist(alpha=0.4, bins=12)\n",
    "genes[genes.seqname ==\"10\"].gene_size.hist(alpha=0.4, bins=12)\n",
    "genes[genes.seqname ==\"11\"].gene_size.hist(alpha=0.4, bins=12)\n",
    "genes[genes.seqname ==\"12\"].gene_size.hist(alpha=0.4, bins=12)\n",
    "genes[genes.seqname ==\"13\"].gene_size.hist(alpha=0.4, bins=12)\n",
    "genes[genes.seqname ==\"14\"].gene_size.hist(alpha=0.4, bins=12)\n",
    "genes[genes.seqname ==\"15\"].gene_size.hist(alpha=0.4, bins=12)\n",
    "genes[genes.seqname ==\"16\"].gene_size.hist(alpha=0.4, bins=12)\n",
    "genes[genes.seqname ==\"17\"].gene_size.hist(alpha=0.4, bins=12)\n",
    "genes[genes.seqname ==\"18\"].gene_size.hist(alpha=0.4, bins=12)\n",
    "genes[genes.seqname ==\"19\"].gene_size.hist(alpha=0.4, bins=12)\n",
    "genes[genes.seqname ==\"20\"].gene_size.hist(alpha=0.4, bins=12)\n",
    "genes[genes.seqname ==\"21\"].gene_size.hist(alpha=0.4, bins=12)\n",
    "genes[genes.seqname ==\"22\"].gene_size.hist(alpha=0.4, bins=12)\n",
    "genes[genes.seqname ==\"23\"].gene_size.hist(alpha=0.4, bins=12)\n",
    "genes[genes.seqname ==\"24\"].gene_size.hist(alpha=0.4, bins=12)\n",
    "genes[genes.seqname ==\"25\"].gene_size.hist(alpha=0.4, bins=12)\n",
    "genes[genes.seqname ==\"26\"].gene_size.hist(alpha=0.4, bins=12)\n",
    "genes[genes.seqname ==\"X\"].gene_size.hist(alpha=0.4, bins=12)\n",
    "genes[genes.seqname ==\"MT\"].gene_size.hist(alpha=0.4, bins=12)\n",
    "ax.legend(['1', '2', '3', '4', '5', '6', '7', '8', '9', '10', '11', '12', '13', '14', '15', '16', '17', '18', '19', '20', '21', '22', '23', '24', '25', '26', 'X', 'MT'], title=\"Chromozom\")\n",
    "pl.suptitle(\"Pocet genu na chromozomech\")"
   ]
  },
  {
   "cell_type": "markdown",
   "metadata": {
    "collapsed": true
   },
   "source": [
    "![](https://encrypted-tbn2.gstatic.com/images?q=tbn:ANd9GcSeQsWextVg29ehYa3qxnmwJ7ZMyUs-G4wNYjpWjeyYrL6OB3USGuy5dSZX)"
   ]
  },
  {
   "cell_type": "markdown",
   "metadata": {},
   "source": []
  },
  {
   "cell_type": "markdown",
   "metadata": {
    "collapsed": true
   },
   "source": [
    "## Problemy"
   ]
  },
  {
   "cell_type": "code",
   "execution_count": 32,
   "metadata": {
    "collapsed": false
   },
   "outputs": [
    {
     "data": {
      "text/html": [
       "<div>\n",
       "<table border=\"1\" class=\"dataframe\">\n",
       "  <thead>\n",
       "    <tr style=\"text-align: right;\">\n",
       "      <th></th>\n",
       "      <th>seqname</th>\n",
       "      <th>source</th>\n",
       "      <th>feature</th>\n",
       "      <th>start</th>\n",
       "      <th>end</th>\n",
       "      <th>score</th>\n",
       "      <th>strand</th>\n",
       "      <th>frame</th>\n",
       "      <th>gene_biotype</th>\n",
       "      <th>gene_id</th>\n",
       "      <th>gene_name</th>\n",
       "      <th>gene_size</th>\n",
       "    </tr>\n",
       "  </thead>\n",
       "  <tbody>\n",
       "    <tr>\n",
       "      <th>0</th>\n",
       "      <td>1</td>\n",
       "      <td>ensembl</td>\n",
       "      <td>gene</td>\n",
       "      <td>23392</td>\n",
       "      <td>176938</td>\n",
       "      <td>.</td>\n",
       "      <td>-</td>\n",
       "      <td>.</td>\n",
       "      <td>protein_coding</td>\n",
       "      <td>ENSOARG00000017577</td>\n",
       "      <td>ING5</td>\n",
       "      <td>153546</td>\n",
       "    </tr>\n",
       "    <tr>\n",
       "      <th>1</th>\n",
       "      <td>1</td>\n",
       "      <td>ensembl</td>\n",
       "      <td>gene</td>\n",
       "      <td>49751</td>\n",
       "      <td>49903</td>\n",
       "      <td>.</td>\n",
       "      <td>+</td>\n",
       "      <td>.</td>\n",
       "      <td>protein_coding</td>\n",
       "      <td>ENSOARG00000020430</td>\n",
       "      <td>NaN</td>\n",
       "      <td>152</td>\n",
       "    </tr>\n",
       "    <tr>\n",
       "      <th>2</th>\n",
       "      <td>1</td>\n",
       "      <td>ensembl</td>\n",
       "      <td>gene</td>\n",
       "      <td>79926</td>\n",
       "      <td>87689</td>\n",
       "      <td>.</td>\n",
       "      <td>+</td>\n",
       "      <td>.</td>\n",
       "      <td>protein_coding</td>\n",
       "      <td>ENSOARG00000017587</td>\n",
       "      <td>PDCD1</td>\n",
       "      <td>7763</td>\n",
       "    </tr>\n",
       "    <tr>\n",
       "      <th>3</th>\n",
       "      <td>1</td>\n",
       "      <td>ensembl</td>\n",
       "      <td>gene</td>\n",
       "      <td>91112</td>\n",
       "      <td>96882</td>\n",
       "      <td>.</td>\n",
       "      <td>+</td>\n",
       "      <td>.</td>\n",
       "      <td>lincRNA</td>\n",
       "      <td>ENSOARG00000025485</td>\n",
       "      <td>NaN</td>\n",
       "      <td>5770</td>\n",
       "    </tr>\n",
       "    <tr>\n",
       "      <th>4</th>\n",
       "      <td>1</td>\n",
       "      <td>ensembl</td>\n",
       "      <td>gene</td>\n",
       "      <td>105668</td>\n",
       "      <td>108573</td>\n",
       "      <td>.</td>\n",
       "      <td>-</td>\n",
       "      <td>.</td>\n",
       "      <td>protein_coding</td>\n",
       "      <td>ENSOARG00000017595</td>\n",
       "      <td>GAL3ST2</td>\n",
       "      <td>2905</td>\n",
       "    </tr>\n",
       "  </tbody>\n",
       "</table>\n",
       "</div>"
      ],
      "text/plain": [
       "  seqname   source feature   start     end score strand frame    gene_biotype  \\\n",
       "0       1  ensembl    gene   23392  176938     .      -     .  protein_coding   \n",
       "1       1  ensembl    gene   49751   49903     .      +     .  protein_coding   \n",
       "2       1  ensembl    gene   79926   87689     .      +     .  protein_coding   \n",
       "3       1  ensembl    gene   91112   96882     .      +     .         lincRNA   \n",
       "4       1  ensembl    gene  105668  108573     .      -     .  protein_coding   \n",
       "\n",
       "              gene_id gene_name  gene_size  \n",
       "0  ENSOARG00000017577      ING5     153546  \n",
       "1  ENSOARG00000020430       NaN        152  \n",
       "2  ENSOARG00000017587     PDCD1       7763  \n",
       "3  ENSOARG00000025485       NaN       5770  \n",
       "4  ENSOARG00000017595   GAL3ST2       2905  "
      ]
     },
     "execution_count": 32,
     "metadata": {},
     "output_type": "execute_result"
    }
   ],
   "source": [
    "gene_sort = genes.sort_values(by = \"gene_size\")\n",
    "genes.head()\n",
    "# z nejakeho duvodu nefunguje, proto jsem zvolila nahradni reseni viz nize"
   ]
  }
 ],
 "metadata": {
  "kernelspec": {
   "display_name": "Python 3",
   "language": "python",
   "name": "python3"
  },
  "language_info": {
   "codemirror_mode": {
    "name": "ipython",
    "version": 3
   },
   "file_extension": ".py",
   "mimetype": "text/x-python",
   "name": "python",
   "nbconvert_exporter": "python",
   "pygments_lexer": "ipython3",
   "version": "3.5.2"
  }
 },
 "nbformat": 4,
 "nbformat_minor": 1
}
